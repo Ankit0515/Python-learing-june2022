{
 "cells": [
  {
   "cell_type": "code",
   "execution_count": 2,
   "metadata": {},
   "outputs": [
    {
     "name": "stdout",
     "output_type": "stream",
     "text": [
      "we have  apple\n",
      "we have  banana\n",
      "we have  mango\n",
      "thats all\n"
     ]
    }
   ],
   "source": [
    "fruits = [\"apple\",\"banana\",\"mango\"]\n",
    "for fruit in fruits:\n",
    "    print(\"we have \", fruit)\n",
    "else:\n",
    "    print(\"thats all\")    \n"
   ]
  },
  {
   "cell_type": "code",
   "execution_count": 10,
   "metadata": {},
   "outputs": [
    {
     "name": "stdout",
     "output_type": "stream",
     "text": [
      "looking at tomato\n"
     ]
    }
   ],
   "source": [
    "vegs=[\"tomato\",\"Potato\",\"carrot\",\"onion\"]\n",
    "for veg in vegs:\n",
    "        print(f\"looking at {veg}\")\n",
    "        if veg==\"Potato\":\n",
    "            print(\"Potato found\")\n",
    "        break\n",
    "else:\n",
    "        print(\"Potato not found\")"
   ]
  },
  {
   "cell_type": "code",
   "execution_count": 11,
   "metadata": {},
   "outputs": [],
   "source": [
    "#prime number "
   ]
  },
  {
   "cell_type": "code",
   "execution_count": 5,
   "metadata": {},
   "outputs": [
    {
     "name": "stdout",
     "output_type": "stream",
     "text": [
      "7/2== 1\n"
     ]
    }
   ],
   "source": [
    "num=int(input(\"enter a number\"))\n",
    "for i in range(2,num):\n",
    "    print(f\"{num}/{i}== {num%i}\")\n",
    "    if num% i == 0 :\n",
    "        print(f\"{num} is not a prime number\")\n",
    "    break\n",
    "else:\n",
    "    print(f\"{num} is a prime no.\")\n"
   ]
  },
  {
   "cell_type": "code",
   "execution_count": 19,
   "metadata": {},
   "outputs": [
    {
     "name": "stdout",
     "output_type": "stream",
     "text": [
      "0 tomato\n",
      "1 Potato\n",
      "2 carrot\n",
      "3 onion\n"
     ]
    }
   ],
   "source": [
    "for idx,val in enumerate(vegs):\n",
    "    print(idx,val)"
   ]
  },
  {
   "cell_type": "code",
   "execution_count": 22,
   "metadata": {},
   "outputs": [
    {
     "name": "stdout",
     "output_type": "stream",
     "text": [
      "4 7 7 10 13 8 10 "
     ]
    }
   ],
   "source": [
    "x=[1,2,3,4,5,6,6]\n",
    "y=[2,3,1,2,3,1,2]\n",
    "z=[1,2,3,4,5,1,2]\n",
    "\n",
    "for i,j,k in zip(x,y,z):\n",
    "    print(i+j+k , end = \" \")"
   ]
  },
  {
   "cell_type": "code",
   "execution_count": 23,
   "metadata": {},
   "outputs": [
    {
     "name": "stdout",
     "output_type": "stream",
     "text": [
      "4 5 6 7 8 9 10 "
     ]
    }
   ],
   "source": [
    "for i in range (len (x)):\n",
    "    print(i+j+k , end = \" \")"
   ]
  },
  {
   "cell_type": "code",
   "execution_count": 1,
   "metadata": {},
   "outputs": [
    {
     "name": "stdout",
     "output_type": "stream",
     "text": [
      "7 is a prime number\n"
     ]
    }
   ],
   "source": [
    "# Program to check if a number is prime or not\n",
    "# Input from the user\n",
    "num = int(input(\"Enter a number: \"))\n",
    "\n",
    "# If number is greater than 1\n",
    "if num > 1:\n",
    "   # Check if factor exist  \n",
    "   for i in range(2,num):\n",
    "       if (num % i) == 0:\n",
    "           print(num,\"is not a prime number\")\n",
    "           break\n",
    "   else:\n",
    "       print(num,\"is a prime number\")\n",
    "       \n",
    "# Else if the input number is less than or equal to 1\n",
    "else:\n",
    "   print(num,\"is not a prime number\")"
   ]
  },
  {
   "cell_type": "code",
   "execution_count": null,
   "metadata": {},
   "outputs": [],
   "source": []
  }
 ],
 "metadata": {
  "interpreter": {
   "hash": "0cbdb2da9dbe0d2dea10ff6d0781d52b5c29396ff67f0b41141e479dd37f1da4"
  },
  "kernelspec": {
   "display_name": "Python 3.9.12 ('base')",
   "language": "python",
   "name": "python3"
  },
  "language_info": {
   "codemirror_mode": {
    "name": "ipython",
    "version": 3
   },
   "file_extension": ".py",
   "mimetype": "text/x-python",
   "name": "python",
   "nbconvert_exporter": "python",
   "pygments_lexer": "ipython3",
   "version": "3.9.12"
  },
  "orig_nbformat": 4
 },
 "nbformat": 4,
 "nbformat_minor": 2
}
