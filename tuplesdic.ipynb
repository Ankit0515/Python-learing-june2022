{
 "cells": [
  {
   "cell_type": "code",
   "execution_count": 1,
   "metadata": {},
   "outputs": [
    {
     "name": "stdout",
     "output_type": "stream",
     "text": [
      "(1, 'Hello', 3.4)\n"
     ]
    }
   ],
   "source": [
    "my_tuples=(1,\"Hello\",3.4)\n",
    "print(my_tuples)"
   ]
  },
  {
   "cell_type": "code",
   "execution_count": 2,
   "metadata": {},
   "outputs": [
    {
     "name": "stdout",
     "output_type": "stream",
     "text": [
      "('mouse', [8, 5, 6], [1, 2, 2])\n"
     ]
    }
   ],
   "source": [
    "#nested Tupules\n",
    "my_tuple=(\"mouse\",[8,5,6],[1,2,2])\n",
    "print(my_tuple)"
   ]
  },
  {
   "cell_type": "code",
   "execution_count": 3,
   "metadata": {},
   "outputs": [
    {
     "name": "stdout",
     "output_type": "stream",
     "text": [
      "(3, 4.0, 'apples')\n"
     ]
    }
   ],
   "source": [
    "my_tuples=3,4.,\"apples\" #python by dfaults stores data in Tuples\n",
    "print(my_tuples)"
   ]
  },
  {
   "cell_type": "code",
   "execution_count": 5,
   "metadata": {},
   "outputs": [
    {
     "name": "stdout",
     "output_type": "stream",
     "text": [
      "apple\n"
     ]
    }
   ],
   "source": [
    "new_tuple=(\"apple\",\"p\",\"e\",\"r\",4.5,-1)\n",
    "print(new_tuple[0])"
   ]
  },
  {
   "cell_type": "code",
   "execution_count": 7,
   "metadata": {},
   "outputs": [
    {
     "name": "stdout",
     "output_type": "stream",
     "text": [
      "4.5\n"
     ]
    }
   ],
   "source": [
    "new_tuple=(\"apple\",\"p\",\"e\",\"r\",4.5,-1)\n",
    "print(new_tuple[-2])"
   ]
  },
  {
   "cell_type": "code",
   "execution_count": 9,
   "metadata": {},
   "outputs": [
    {
     "name": "stdout",
     "output_type": "stream",
     "text": [
      "s\n",
      "8\n"
     ]
    }
   ],
   "source": [
    "#nested tuple\n",
    "n_tuple=(\"mouse\",[8,5,6],[1,2,2])\n",
    "#nested index\n",
    "print(n_tuple[0][3])\n",
    "print(n_tuple[1][0])"
   ]
  },
  {
   "cell_type": "code",
   "execution_count": 10,
   "metadata": {},
   "outputs": [
    {
     "name": "stdout",
     "output_type": "stream",
     "text": [
      "('b', 'c', 'q')\n"
     ]
    }
   ],
   "source": [
    "#accesing tuple using slicing\n",
    "my_tuple=(\"a\",\"b\",\"c\",\"q\",\"w\",\"e\",\"r\")\n",
    "print(my_tuple[1:4])"
   ]
  },
  {
   "cell_type": "code",
   "execution_count": 11,
   "metadata": {},
   "outputs": [
    {
     "name": "stdout",
     "output_type": "stream",
     "text": [
      "('a', 'b', 'c')\n"
     ]
    }
   ],
   "source": [
    "print(my_tuple[:-4])"
   ]
  },
  {
   "cell_type": "code",
   "execution_count": 12,
   "metadata": {},
   "outputs": [
    {
     "name": "stdout",
     "output_type": "stream",
     "text": [
      "('a', 'b', 'c', 'q', 'w', 'e', 'r')\n"
     ]
    }
   ],
   "source": [
    "print(my_tuple[:])"
   ]
  },
  {
   "cell_type": "code",
   "execution_count": 13,
   "metadata": {},
   "outputs": [
    {
     "name": "stdout",
     "output_type": "stream",
     "text": [
      "('c', 'q', 'w', 'e', 'r')\n"
     ]
    }
   ],
   "source": [
    "print(my_tuple[-5:])"
   ]
  },
  {
   "cell_type": "code",
   "execution_count": 15,
   "metadata": {},
   "outputs": [
    {
     "name": "stdout",
     "output_type": "stream",
     "text": [
      "1\n"
     ]
    }
   ],
   "source": [
    "print(my_tuple.count(\"q\"))"
   ]
  },
  {
   "cell_type": "code",
   "execution_count": 16,
   "metadata": {},
   "outputs": [
    {
     "name": "stdout",
     "output_type": "stream",
     "text": [
      "(1, 2, 3, 4, 5, 6)\n"
     ]
    }
   ],
   "source": [
    "print((1,2,3)+(4,5,6))"
   ]
  },
  {
   "cell_type": "code",
   "execution_count": 17,
   "metadata": {},
   "outputs": [
    {
     "name": "stdout",
     "output_type": "stream",
     "text": [
      "RepeatRepeatRepeat\n"
     ]
    }
   ],
   "source": [
    "print((\"Repeat\")*3)"
   ]
  },
  {
   "cell_type": "code",
   "execution_count": 18,
   "metadata": {},
   "outputs": [
    {
     "name": "stdout",
     "output_type": "stream",
     "text": [
      "5\n"
     ]
    }
   ],
   "source": [
    "print(my_tuple.index(\"e\"))"
   ]
  },
  {
   "cell_type": "code",
   "execution_count": 19,
   "metadata": {},
   "outputs": [],
   "source": [
    "x=(1,2,3,4,5,4)"
   ]
  },
  {
   "cell_type": "code",
   "execution_count": 20,
   "metadata": {},
   "outputs": [
    {
     "name": "stdout",
     "output_type": "stream",
     "text": [
      "[1, 2, 3, 4, 5, 4] (1, 2, 3, 4, 5, 4)\n"
     ]
    }
   ],
   "source": [
    "x1=list(x)\n",
    "print(x1,x)"
   ]
  },
  {
   "cell_type": "code",
   "execution_count": 21,
   "metadata": {},
   "outputs": [
    {
     "name": "stdout",
     "output_type": "stream",
     "text": [
      "(1, 2, 3, 4, 5, 4) {1, 2, 3, 4, 5}\n"
     ]
    }
   ],
   "source": [
    "xs=set(x)\n",
    "print(x,xs)"
   ]
  },
  {
   "cell_type": "code",
   "execution_count": 22,
   "metadata": {},
   "outputs": [
    {
     "name": "stdout",
     "output_type": "stream",
     "text": [
      "{1, 2, 3}\n"
     ]
    }
   ],
   "source": [
    "my_set={1,2,3}\n",
    "print(my_set)"
   ]
  },
  {
   "cell_type": "code",
   "execution_count": 23,
   "metadata": {},
   "outputs": [
    {
     "name": "stdout",
     "output_type": "stream",
     "text": [
      "{1.0, (1, 2, 3), 'oye'}\n"
     ]
    }
   ],
   "source": [
    "my_set1={1.0,\"oye\",(1,2,3)}\n",
    "print(my_set1)"
   ]
  },
  {
   "cell_type": "code",
   "execution_count": 24,
   "metadata": {},
   "outputs": [
    {
     "name": "stdout",
     "output_type": "stream",
     "text": [
      "{1, 2, 3, 4}\n"
     ]
    }
   ],
   "source": [
    "my_set2=set([1,2,3,3,4])\n",
    "print(my_set2)"
   ]
  },
  {
   "cell_type": "code",
   "execution_count": 25,
   "metadata": {},
   "outputs": [
    {
     "name": "stdout",
     "output_type": "stream",
     "text": [
      "{1, 2, 3, 4, 5}\n"
     ]
    }
   ],
   "source": [
    "my_set3={1,2,3,4,5}\n",
    "print(my_set3)"
   ]
  },
  {
   "cell_type": "code",
   "execution_count": 27,
   "metadata": {},
   "outputs": [
    {
     "name": "stdout",
     "output_type": "stream",
     "text": [
      "{1, 2, 3, 4, 5}\n"
     ]
    }
   ],
   "source": [
    "my_set3={1,2,3,4,5}\n",
    "print(my_set3)"
   ]
  },
  {
   "cell_type": "markdown",
   "metadata": {},
   "source": [
    "a=set()\n",
    "print(type(a))"
   ]
  },
  {
   "cell_type": "code",
   "execution_count": null,
   "metadata": {},
   "outputs": [
    {
     "name": "stdout",
     "output_type": "stream",
     "text": [
      "<class 'set'>\n"
     ]
    }
   ],
   "source": [
    "a= set() #initiate a emply set\n",
    "print(type(a))  #check data type of set"
   ]
  },
  {
   "cell_type": "code",
   "execution_count": 4,
   "metadata": {},
   "outputs": [
    {
     "name": "stdout",
     "output_type": "stream",
     "text": [
      "{1, 3}\n"
     ]
    }
   ],
   "source": [
    "my_set={1,3}\n",
    "print(my_set)"
   ]
  },
  {
   "cell_type": "code",
   "execution_count": 5,
   "metadata": {},
   "outputs": [
    {
     "name": "stdout",
     "output_type": "stream",
     "text": [
      "{1, 2, 3}\n"
     ]
    }
   ],
   "source": [
    "#add an element\n",
    "my_set.add(2)\n",
    "print(my_set)"
   ]
  },
  {
   "cell_type": "code",
   "execution_count": 6,
   "metadata": {},
   "outputs": [
    {
     "name": "stdout",
     "output_type": "stream",
     "text": [
      "{1, 2, 3, 4}\n"
     ]
    }
   ],
   "source": [
    "#add mltiple elements\n",
    "my_set.update([2,3,4]) #set removes duplicate values\n",
    "print(my_set)"
   ]
  },
  {
   "cell_type": "code",
   "execution_count": 7,
   "metadata": {},
   "outputs": [
    {
     "name": "stdout",
     "output_type": "stream",
     "text": [
      "{1, 2, 3, 4, 5, 7, 8}\n"
     ]
    }
   ],
   "source": [
    "#add list and set\n",
    "my_set.update([4,5],{1,7,8})\n",
    "print(my_set)"
   ]
  },
  {
   "cell_type": "code",
   "execution_count": 8,
   "metadata": {},
   "outputs": [
    {
     "name": "stdout",
     "output_type": "stream",
     "text": [
      "{1, 2, 3, 5, 7, 8}\n"
     ]
    }
   ],
   "source": [
    "my_set.discard(4)    #using discard funct will not give error if the values is not available\n",
    "print(my_set)"
   ]
  },
  {
   "cell_type": "code",
   "execution_count": 9,
   "metadata": {},
   "outputs": [
    {
     "name": "stdout",
     "output_type": "stream",
     "text": [
      "{1, 2, 3, 5, 8}\n"
     ]
    }
   ],
   "source": [
    "my_set.remove(7)\n",
    "print(my_set)"
   ]
  },
  {
   "cell_type": "code",
   "execution_count": 10,
   "metadata": {},
   "outputs": [
    {
     "name": "stdout",
     "output_type": "stream",
     "text": [
      "{2, 3, 5, 8}\n"
     ]
    }
   ],
   "source": [
    "my_set.pop()\n",
    "print(my_set)\n"
   ]
  },
  {
   "cell_type": "code",
   "execution_count": 11,
   "metadata": {},
   "outputs": [
    {
     "ename": "TypeError",
     "evalue": "'set' object is not subscriptable",
     "output_type": "error",
     "traceback": [
      "\u001b[1;31m---------------------------------------------------------------------------\u001b[0m",
      "\u001b[1;31mTypeError\u001b[0m                                 Traceback (most recent call last)",
      "\u001b[1;32mg:\\second innings\\Python-learing-june2022\\tuplesdic.ipynb Cell 8'\u001b[0m in \u001b[0;36m<cell line: 1>\u001b[1;34m()\u001b[0m\n\u001b[1;32m----> <a href='vscode-notebook-cell:/g%3A/second%20innings/Python-learing-june2022/tuplesdic.ipynb#ch0000007?line=0'>1</a>\u001b[0m x\u001b[39m=\u001b[39mmy_set[:\u001b[39m3\u001b[39;49m]\n\u001b[0;32m      <a href='vscode-notebook-cell:/g%3A/second%20innings/Python-learing-june2022/tuplesdic.ipynb#ch0000007?line=1'>2</a>\u001b[0m \u001b[39mprint\u001b[39m(x)\n",
      "\u001b[1;31mTypeError\u001b[0m: 'set' object is not subscriptable"
     ]
    }
   ],
   "source": [
    "x=my_set[:3] # as the data in unordered indexing is not possible # we cannot pass set in set\n",
    "print(x)"
   ]
  },
  {
   "cell_type": "code",
   "execution_count": 12,
   "metadata": {},
   "outputs": [],
   "source": [
    "A={1,2,3,4,5}\n",
    "B={4,5,6,7,8}"
   ]
  },
  {
   "cell_type": "code",
   "execution_count": 13,
   "metadata": {},
   "outputs": [
    {
     "name": "stdout",
     "output_type": "stream",
     "text": [
      "{1, 2, 3, 4, 5, 6, 7, 8}\n"
     ]
    }
   ],
   "source": [
    "print(A|B)"
   ]
  },
  {
   "cell_type": "code",
   "execution_count": 15,
   "metadata": {},
   "outputs": [
    {
     "data": {
      "text/plain": [
       "{1, 2, 3, 4, 5, 6, 7, 8}"
      ]
     },
     "execution_count": 15,
     "metadata": {},
     "output_type": "execute_result"
    }
   ],
   "source": [
    "A.union(B) #same as | \"pipe fuunction\""
   ]
  },
  {
   "cell_type": "code",
   "execution_count": 17,
   "metadata": {},
   "outputs": [
    {
     "data": {
      "text/plain": [
       "{1, 2, 3, 4, 5, 6, 7, 8}"
      ]
     },
     "execution_count": 17,
     "metadata": {},
     "output_type": "execute_result"
    }
   ],
   "source": [
    "B.union(A) #the order of using/placing AB doesnt effect result"
   ]
  },
  {
   "cell_type": "code",
   "execution_count": 21,
   "metadata": {},
   "outputs": [
    {
     "name": "stdout",
     "output_type": "stream",
     "text": [
      "{4, 5}\n"
     ]
    },
    {
     "data": {
      "text/plain": [
       "{4, 5}"
      ]
     },
     "execution_count": 21,
     "metadata": {},
     "output_type": "execute_result"
    }
   ],
   "source": [
    "#set intersection\n",
    "print(A&B)\n",
    "A.intersection(B) # both are same"
   ]
  },
  {
   "cell_type": "code",
   "execution_count": 22,
   "metadata": {},
   "outputs": [
    {
     "name": "stdout",
     "output_type": "stream",
     "text": [
      "{1, 2, 3}\n",
      "{8, 6, 7}\n"
     ]
    }
   ],
   "source": [
    "#use \"-\" to find unique values\n",
    "print(A-B)   #A.difference(B) will give same output\n",
    "print(B-A)   #B.difference(A) will give same output"
   ]
  },
  {
   "cell_type": "code",
   "execution_count": 25,
   "metadata": {},
   "outputs": [
    {
     "name": "stdout",
     "output_type": "stream",
     "text": [
      "{1, 2, 3, 6, 7, 8}\n"
     ]
    }
   ],
   "source": [
    "# operator ^ gives unique values of both set\n",
    "print(A ^ B)  # A.symmetric_difference(B) will give the same output"
   ]
  },
  {
   "cell_type": "code",
   "execution_count": 30,
   "metadata": {},
   "outputs": [
    {
     "name": "stdout",
     "output_type": "stream",
     "text": [
      "{'pump', 'TV', 'Inverter', 'charger', 'washing machine', 'dish washer', 'mobile', 'Transformer'}\n",
      "{'pump', 'Transformer'}\n",
      "{'charger', 'mobile', 'washing machine', 'TV'}\n",
      "{'Inverter', 'dish washer'}\n",
      "{'TV', 'Inverter', 'charger', 'washing machine', 'dish washer', 'mobile'}\n"
     ]
    }
   ],
   "source": [
    "z={\"mobile\",\"charger\",\"TV\",\"washing machine\",\"pump\",\"Transformer\"}\n",
    "x={\"Transformer\",\"pump\",\"dish washer\",\"Inverter\"}\n",
    "print(z|x)  #union\n",
    "print(z&x)  #intersection\n",
    "print(z-x)  #difference\n",
    "print(x-z)  #difference\n",
    "print(z^x)  #systematic difference\n"
   ]
  },
  {
   "cell_type": "markdown",
   "metadata": {},
   "source": [
    "#dictionary"
   ]
  },
  {
   "cell_type": "code",
   "execution_count": 31,
   "metadata": {},
   "outputs": [],
   "source": [
    "my_dict={1:\"apple\",2:\"ball\"}"
   ]
  },
  {
   "cell_type": "code",
   "execution_count": 32,
   "metadata": {},
   "outputs": [
    {
     "name": "stdout",
     "output_type": "stream",
     "text": [
      "Jack\n"
     ]
    }
   ],
   "source": [
    "#get() use example\n",
    "my_dict2={\"name\":\"Jack\",\"age\":25}\n",
    "print(my_dict2[\"name\"])"
   ]
  },
  {
   "cell_type": "code",
   "execution_count": 33,
   "metadata": {},
   "outputs": [
    {
     "name": "stdout",
     "output_type": "stream",
     "text": [
      "25\n"
     ]
    }
   ],
   "source": [
    "print(my_dict2[\"age\"])"
   ]
  },
  {
   "cell_type": "code",
   "execution_count": 34,
   "metadata": {},
   "outputs": [
    {
     "ename": "KeyError",
     "evalue": "'address'",
     "output_type": "error",
     "traceback": [
      "\u001b[1;31m---------------------------------------------------------------------------\u001b[0m",
      "\u001b[1;31mKeyError\u001b[0m                                  Traceback (most recent call last)",
      "\u001b[1;32mg:\\second innings\\Python-learing-june2022\\tuplesdic.ipynb Cell 45'\u001b[0m in \u001b[0;36m<cell line: 1>\u001b[1;34m()\u001b[0m\n\u001b[1;32m----> <a href='vscode-notebook-cell:/g%3A/second%20innings/Python-learing-june2022/tuplesdic.ipynb#ch0000048?line=0'>1</a>\u001b[0m \u001b[39mprint\u001b[39m(my_dict2[\u001b[39m\"\u001b[39;49m\u001b[39maddress\u001b[39;49m\u001b[39m\"\u001b[39;49m])\n",
      "\u001b[1;31mKeyError\u001b[0m: 'address'"
     ]
    }
   ],
   "source": [
    "print(my_dict2[\"address\"])"
   ]
  },
  {
   "cell_type": "code",
   "execution_count": 35,
   "metadata": {},
   "outputs": [
    {
     "name": "stdout",
     "output_type": "stream",
     "text": [
      "None\n"
     ]
    }
   ],
   "source": [
    "print(my_dict2.get(\"address\")) #extracts unavailable value with \"None\" error"
   ]
  },
  {
   "cell_type": "code",
   "execution_count": 36,
   "metadata": {},
   "outputs": [],
   "source": [
    "my_dict2[\"age\"]=89"
   ]
  },
  {
   "cell_type": "code",
   "execution_count": 37,
   "metadata": {},
   "outputs": [],
   "source": [
    "my_dict2[\"address\"]= \"vasant vihar \""
   ]
  },
  {
   "cell_type": "code",
   "execution_count": 38,
   "metadata": {},
   "outputs": [
    {
     "name": "stdout",
     "output_type": "stream",
     "text": [
      "{'name': 'Jack', 'age': 89, 'address': 'vasant vihar '}\n"
     ]
    }
   ],
   "source": [
    "print(my_dict2)"
   ]
  },
  {
   "cell_type": "code",
   "execution_count": 47,
   "metadata": {},
   "outputs": [],
   "source": [
    "Squares={1:2,2:3,4:5,5:420}"
   ]
  },
  {
   "cell_type": "code",
   "execution_count": 42,
   "metadata": {},
   "outputs": [
    {
     "name": "stdout",
     "output_type": "stream",
     "text": [
      "5\n"
     ]
    }
   ],
   "source": [
    "print(Squares.pop(4)) #removes a perticular and returns the same"
   ]
  },
  {
   "cell_type": "code",
   "execution_count": 43,
   "metadata": {},
   "outputs": [
    {
     "name": "stdout",
     "output_type": "stream",
     "text": [
      "(5, 420)\n"
     ]
    }
   ],
   "source": [
    "print(Squares.popitem()) # removes the last value of set"
   ]
  },
  {
   "cell_type": "code",
   "execution_count": 44,
   "metadata": {},
   "outputs": [],
   "source": [
    "Squares.clear() # deletes all values "
   ]
  },
  {
   "cell_type": "code",
   "execution_count": 45,
   "metadata": {},
   "outputs": [
    {
     "name": "stdout",
     "output_type": "stream",
     "text": [
      "{}\n"
     ]
    }
   ],
   "source": [
    "print(Squares)"
   ]
  },
  {
   "cell_type": "code",
   "execution_count": 46,
   "metadata": {},
   "outputs": [],
   "source": [
    "#delete variable/the dictionary intself\n",
    "del Squares\n"
   ]
  },
  {
   "cell_type": "code",
   "execution_count": 49,
   "metadata": {},
   "outputs": [
    {
     "name": "stdout",
     "output_type": "stream",
     "text": [
      "1\n",
      "2\n",
      "4\n",
      "5\n"
     ]
    }
   ],
   "source": [
    "for i in Squares:\n",
    "    print(i)"
   ]
  },
  {
   "cell_type": "code",
   "execution_count": 50,
   "metadata": {},
   "outputs": [
    {
     "name": "stdout",
     "output_type": "stream",
     "text": [
      "2\n",
      "3\n",
      "5\n",
      "420\n"
     ]
    }
   ],
   "source": [
    "for i in Squares:   # will only print stored value of keyword\n",
    "    print(Squares[i]) "
   ]
  },
  {
   "cell_type": "code",
   "execution_count": 52,
   "metadata": {},
   "outputs": [
    {
     "name": "stdout",
     "output_type": "stream",
     "text": [
      "1 2\n",
      "2 3\n",
      "4 5\n",
      "5 420\n"
     ]
    }
   ],
   "source": [
    "for k,v in Squares.items():   #whole data with index/key/name & its value\n",
    "    print(k,v)"
   ]
  },
  {
   "cell_type": "code",
   "execution_count": 53,
   "metadata": {},
   "outputs": [],
   "source": [
    "student1={\"Name\":\"Jay\",\"math\":50,\"hindi\":45,\"science\":50}\n",
    "student2={\"Name\":\"veeru\",\"math\":501,\"hindi\":415,\"science\":510}\n",
    "student3={\"Name\":\"Thakur\",\"math\":50,\"hindi\":5,\"science\":0}\n",
    "student4={\"Name\":\"Shyam\",\"math\":45,\"hindi\":57,\"science\":7}\n",
    "student5={\"Name\":\"raj\",\"math\":23,\"hindi\":43,\"science\":0}"
   ]
  },
  {
   "cell_type": "code",
   "execution_count": 54,
   "metadata": {},
   "outputs": [],
   "source": [
    "class_10={\"Name\":\"Jay\",\"math\":50,\"hindi\":45,\"science\":50,\"Name\":\"veeru\",\"math\":501,\"hindi\":415,\"science\":51,\"Name\":\"Thakur\",\"math\":50,\"hindi\":5,\"science\":0,\"Name\":\"Shyam\",\"math\":45,\"hindi\":57,\"science\":7, \"Name\":\"raj\",\"math\":23,\"hindi\":43,\"science\":0}"
   ]
  },
  {
   "cell_type": "code",
   "execution_count": 55,
   "metadata": {},
   "outputs": [
    {
     "name": "stdout",
     "output_type": "stream",
     "text": [
      "{'Name': 'raj', 'math': 23, 'hindi': 43, 'science': 0}\n"
     ]
    }
   ],
   "source": [
    "print(class_10)"
   ]
  },
  {
   "cell_type": "code",
   "execution_count": 65,
   "metadata": {},
   "outputs": [],
   "source": [
    "student1=  {\n",
    "    \"Amit\": {\"eng\":98,\"sci\":75,\"sst\":45,\"Evs\":77} ,\n",
    "    \"Shyam\":{\"eng\":98,\"sci\":75,\"sst\":45,\"Evs\":77} ,\n",
    "    \"Ritu\": {\"eng\":98,\"sci\":75,\"sst\":45,\"Evs\":77} ,\n",
    "          }"
   ]
  },
  {
   "cell_type": "code",
   "execution_count": 67,
   "metadata": {},
   "outputs": [
    {
     "data": {
      "text/plain": [
       "77"
      ]
     },
     "execution_count": 67,
     "metadata": {},
     "output_type": "execute_result"
    }
   ],
   "source": [
    "student1[\"Amit\"][\"Evs\"]"
   ]
  },
  {
   "cell_type": "code",
   "execution_count": 74,
   "metadata": {},
   "outputs": [
    {
     "name": "stdout",
     "output_type": "stream",
     "text": [
      "Student : Amit\n",
      "=> eng: 98\n",
      "=> sci: 75\n",
      "=> sst: 45\n",
      "=> Evs: 77\n",
      "--------------------\n",
      "Student : Shyam\n",
      "=> eng: 98\n",
      "=> sci: 75\n",
      "=> sst: 45\n",
      "=> Evs: 77\n",
      "--------------------\n",
      "Student : Ritu\n",
      "=> eng: 98\n",
      "=> sci: 75\n",
      "=> sst: 45\n",
      "=> Evs: 77\n",
      "--------------------\n"
     ]
    }
   ],
   "source": [
    "for name, marks in student1.items():\n",
    "    print(\"Student :\",name)\n",
    "    for sub,mark in marks.items():\n",
    "        print(f'=> {sub}: {mark}')\n",
    "    print('-'*20)"
   ]
  },
  {
   "cell_type": "code",
   "execution_count": null,
   "metadata": {},
   "outputs": [],
   "source": []
  }
 ],
 "metadata": {
  "kernelspec": {
   "display_name": "Python 3.9.12 64-bit (system)",
   "language": "python",
   "name": "python3"
  },
  "language_info": {
   "codemirror_mode": {
    "name": "ipython",
    "version": 3
   },
   "file_extension": ".py",
   "mimetype": "text/x-python",
   "name": "python",
   "nbconvert_exporter": "python",
   "pygments_lexer": "ipython3",
   "version": "3.9.12"
  },
  "orig_nbformat": 4,
  "vscode": {
   "interpreter": {
    "hash": "9e290491e120be1fd4a58add101807bb4a9e3506ac3d6f67424832ba980bebb8"
   }
  }
 },
 "nbformat": 4,
 "nbformat_minor": 2
}
