{
 "cells": [
  {
   "cell_type": "code",
   "execution_count": 1,
   "metadata": {},
   "outputs": [
    {
     "name": "stdout",
     "output_type": "stream",
     "text": [
      " Ankit Srivastava\n"
     ]
    }
   ],
   "source": [
    "my_string=\" Ankit Srivastava\"\n",
    "print(my_string)"
   ]
  },
  {
   "cell_type": "code",
   "execution_count": 2,
   "metadata": {},
   "outputs": [
    {
     "name": "stdout",
     "output_type": "stream",
     "text": [
      "7\n"
     ]
    }
   ],
   "source": [
    "Str=\"Lucknow\"\n",
    "print(len(Str))"
   ]
  },
  {
   "cell_type": "code",
   "execution_count": 9,
   "metadata": {},
   "outputs": [
    {
     "name": "stdout",
     "output_type": "stream",
     "text": [
      "great\n"
     ]
    }
   ],
   "source": [
    "name= \"python is great\"\n",
    "c=name[10:16]\n",
    "print(c)"
   ]
  },
  {
   "cell_type": "code",
   "execution_count": 12,
   "metadata": {},
   "outputs": [
    {
     "name": "stdout",
     "output_type": "stream",
     "text": [
      "Python\n",
      "is\n",
      "everywhere\n"
     ]
    }
   ],
   "source": [
    "str2=\"Python is everywhere\"\n",
    "for x in str2.split():\n",
    "    print (x)\n",
    "\n"
   ]
  },
  {
   "cell_type": "code",
   "execution_count": 14,
   "metadata": {},
   "outputs": [
    {
     "name": "stdout",
     "output_type": "stream",
     "text": [
      "!dlroW olleH\n"
     ]
    }
   ],
   "source": [
    "str3 = \"Hello World!\"[::-1]\n",
    "print(str3)"
   ]
  },
  {
   "cell_type": "code",
   "execution_count": 16,
   "metadata": {},
   "outputs": [
    {
     "name": "stdout",
     "output_type": "stream",
     "text": [
      "HOW ARE YOU?\n"
     ]
    }
   ],
   "source": [
    "str4=\"How are you?\"\n",
    "x=str4.upper()\n",
    "print(x)"
   ]
  },
  {
   "cell_type": "code",
   "execution_count": 17,
   "metadata": {},
   "outputs": [
    {
     "name": "stdout",
     "output_type": "stream",
     "text": [
      "7\n"
     ]
    }
   ],
   "source": [
    "str1=input(\"enter a string: \")\n",
    "print(len(str1))"
   ]
  },
  {
   "cell_type": "code",
   "execution_count": 20,
   "metadata": {},
   "outputs": [
    {
     "name": "stdout",
     "output_type": "stream",
     "text": [
      "how is it going?\n"
     ]
    }
   ],
   "source": [
    "str5=\"How Is It Going?\"\n",
    "x=str5.lower()\n",
    "print(x)"
   ]
  },
  {
   "cell_type": "code",
   "execution_count": 21,
   "metadata": {},
   "outputs": [
    {
     "name": "stdout",
     "output_type": "stream",
     "text": [
      "how is it going?\n"
     ]
    }
   ],
   "source": [
    "str5=\"How Is It Going?\"\n",
    "print(str5.lower())"
   ]
  },
  {
   "cell_type": "code",
   "execution_count": 22,
   "metadata": {},
   "outputs": [
    {
     "name": "stdout",
     "output_type": "stream",
     "text": [
      "Python is easy to learn\n"
     ]
    }
   ],
   "source": [
    "words = ['Python', 'is', 'easy', 'to', 'learn']\n",
    "strlist= \" \".join(words)\n",
    "print(strlist)"
   ]
  },
  {
   "cell_type": "code",
   "execution_count": 24,
   "metadata": {},
   "outputs": [
    {
     "name": "stdout",
     "output_type": "stream",
     "text": [
      "This is a example of \n",
      "wrinting code in python\n",
      "and printing multiline string on \n",
      "new lines\n"
     ]
    }
   ],
   "source": [
    "print(\"This is a example of \\n\"\"wrinting code in python\\n\"\"and printing multiline string on \\n\" \"new lines\")"
   ]
  },
  {
   "cell_type": "code",
   "execution_count": 31,
   "metadata": {},
   "outputs": [
    {
     "name": "stdout",
     "output_type": "stream",
     "text": [
      "to move to newline \\n. \n"
     ]
    }
   ],
   "source": [
    "new_string= r\"to move to newline \\n. \"\n",
    "print(new_string)"
   ]
  },
  {
   "cell_type": "code",
   "execution_count": 32,
   "metadata": {},
   "outputs": [
    {
     "name": "stdout",
     "output_type": "stream",
     "text": [
      "the variable is 15\n"
     ]
    }
   ],
   "source": [
    "print(\"the variable is 15\")"
   ]
  },
  {
   "cell_type": "code",
   "execution_count": 33,
   "metadata": {},
   "outputs": [
    {
     "name": "stdout",
     "output_type": "stream",
     "text": [
      "the variable is 15\n"
     ]
    }
   ],
   "source": [
    "a= \"the variable is 15\"\n",
    "print(a)"
   ]
  },
  {
   "cell_type": "markdown",
   "metadata": {},
   "source": [
    "12. concatenate the following strings and print the result\n",
    "s1 = 'python '\n",
    "s2 = 'is '\n",
    "s3 = 'great.'\n"
   ]
  },
  {
   "cell_type": "code",
   "execution_count": 34,
   "metadata": {},
   "outputs": [
    {
     "name": "stdout",
     "output_type": "stream",
     "text": [
      "python is great\n"
     ]
    }
   ],
   "source": [
    "s1=\"python\"\n",
    "s2=\"is\"\n",
    "s3=\"great\"\n",
    "print(s1+\" \"+s2+\" \"+s3)"
   ]
  },
  {
   "cell_type": "markdown",
   "metadata": {},
   "source": [
    "13. Print # 20 times without using a loop"
   ]
  },
  {
   "cell_type": "code",
   "execution_count": 35,
   "metadata": {},
   "outputs": [
    {
     "name": "stdout",
     "output_type": "stream",
     "text": [
      "####################\n"
     ]
    }
   ],
   "source": [
    "print(\"#\"*20)"
   ]
  },
  {
   "cell_type": "markdown",
   "metadata": {},
   "source": [
    "14. Print numbers from 1 to 9, each on a seperate line, followed by a dot, output should look like the following-\n",
    "1.\n",
    "2.\n",
    "3.\n"
   ]
  },
  {
   "cell_type": "code",
   "execution_count": 43,
   "metadata": {},
   "outputs": [
    {
     "name": "stdout",
     "output_type": "stream",
     "text": [
      "1.\n",
      "2.\n",
      "3.\n",
      "4.\n",
      "5.\n",
      "6.\n",
      "7.\n",
      "8.\n",
      "9.\n"
     ]
    }
   ],
   "source": [
    "\n",
    "for i in range(1,10):\n",
    "    print(f\"{i}.\")"
   ]
  },
  {
   "cell_type": "markdown",
   "metadata": {},
   "source": [
    "15. Ask user to input a sentence and print each word on a different line."
   ]
  },
  {
   "cell_type": "code",
   "execution_count": 53,
   "metadata": {},
   "outputs": [
    {
     "name": "stdout",
     "output_type": "stream",
     "text": [
      "ONCE\n",
      "UPON\n",
      "A\n",
      "TIME,\n",
      "THERE\n",
      "WAS\n",
      "A\n",
      "KINGDOM\n",
      "WHERE\n",
      "PEOPLE\n",
      "LIVED,\n"
     ]
    }
   ],
   "source": [
    "new_sen=input(\"kindly enter sentence\")\n",
    "for c in new_sen.split():\n",
    "    print(c)"
   ]
  },
  {
   "cell_type": "markdown",
   "metadata": {},
   "source": [
    "#Ask user to input a string and check if the string ends with '?'\n"
   ]
  },
  {
   "cell_type": "code",
   "execution_count": 54,
   "metadata": {},
   "outputs": [
    {
     "name": "stdout",
     "output_type": "stream",
     "text": [
      "True\n"
     ]
    }
   ],
   "source": [
    "txt = input(\"please enter a text\")\n",
    "x = txt.endswith(\"?\")\n",
    "print(x)"
   ]
  },
  {
   "cell_type": "code",
   "execution_count": 59,
   "metadata": {},
   "outputs": [
    {
     "name": "stdout",
     "output_type": "stream",
     "text": [
      "e found at position 11\n",
      "e found at position 17\n",
      "e found at position 27\n",
      "e found at position 60\n",
      "e found at position 74\n"
     ]
    }
   ],
   "source": [
    "story = input(\"enter a sentence\")\n",
    "\n",
    "q =\"e\"\n",
    "start = 0\n",
    "while True:\n",
    "    idx = story.find(q,start)\n",
    "    if idx == -1:\n",
    "        break\n",
    "    print(f'{q} found at position {idx}')\n",
    "    start = idx + 1"
   ]
  },
  {
   "cell_type": "markdown",
   "metadata": {},
   "source": [
    "#Check if the user input is a number."
   ]
  },
  {
   "cell_type": "code",
   "execution_count": 66,
   "metadata": {},
   "outputs": [
    {
     "name": "stdout",
     "output_type": "stream",
     "text": [
      "Printing type of input value\n",
      "type of number  <class 'int'>\n"
     ]
    }
   ],
   "source": [
    "number1 = int(input(\"Enter number and hit enter \"))\n",
    "print(\"Printing type of input value\")\n",
    "print(\"type of number \", type(number1))"
   ]
  },
  {
   "cell_type": "markdown",
   "metadata": {},
   "source": [
    "# ask user to enter a string and check if the string contains fyi"
   ]
  },
  {
   "cell_type": "code",
   "execution_count": 70,
   "metadata": {},
   "outputs": [
    {
     "name": "stdout",
     "output_type": "stream",
     "text": [
      "fyi found at position 0\n"
     ]
    }
   ],
   "source": [
    "story = input(\"enter a sentence\")\n",
    "\n",
    "q =\"fyi\"\n",
    "start = 0\n",
    "while True:\n",
    "    idx = story.find(q,start)\n",
    "    if idx == -1:\n",
    "        break\n",
    "    print(f'{q} found at position {idx}')\n",
    "    start = idx + 1"
   ]
  },
  {
   "cell_type": "code",
   "execution_count": null,
   "metadata": {},
   "outputs": [],
   "source": []
  }
 ],
 "metadata": {
  "kernelspec": {
   "display_name": "Python 3.9.12 64-bit (system)",
   "language": "python",
   "name": "python3"
  },
  "language_info": {
   "codemirror_mode": {
    "name": "ipython",
    "version": 3
   },
   "file_extension": ".py",
   "mimetype": "text/x-python",
   "name": "python",
   "nbconvert_exporter": "python",
   "pygments_lexer": "ipython3",
   "version": "3.9.12"
  },
  "orig_nbformat": 4,
  "vscode": {
   "interpreter": {
    "hash": "9e290491e120be1fd4a58add101807bb4a9e3506ac3d6f67424832ba980bebb8"
   }
  }
 },
 "nbformat": 4,
 "nbformat_minor": 2
}
