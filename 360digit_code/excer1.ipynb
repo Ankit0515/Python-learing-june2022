{
 "cells": [
  {
   "cell_type": "code",
   "execution_count": 1,
   "metadata": {},
   "outputs": [
    {
     "name": "stdout",
     "output_type": "stream",
     "text": [
      "x is  50\n",
      "changed local x to 2\n",
      "x is still 50\n"
     ]
    }
   ],
   "source": [
    "x=50\n",
    "def func(x):\n",
    "    print ('x is ', x)\n",
    "    x=2\n",
    "    print ('changed local x to' ,x)\n",
    "func(x)\n",
    "print ('x is still',x)\n"
   ]
  },
  {
   "cell_type": "code",
   "execution_count": 3,
   "metadata": {},
   "outputs": [
    {
     "name": "stdout",
     "output_type": "stream",
     "text": [
      "hello\n",
      "Welcome\n",
      "to \n",
      "python \n"
     ]
    }
   ],
   "source": [
    "#variable arguments \n",
    "# *args for variable number of arguments\n",
    "\n",
    "def myfun(*argv):\n",
    "    for arg in argv:\n",
    "        print(arg)\n",
    "\n",
    "myfun ('hello', 'Welcome','to ','python ')"
   ]
  },
  {
   "cell_type": "code",
   "execution_count": 6,
   "metadata": {},
   "outputs": [
    {
     "name": "stdout",
     "output_type": "stream",
     "text": [
      "\n",
      " Data type of argument: <class 'dict'>\n",
      "Firstname is Sita\n",
      "Lastname is sharma\n",
      "Age is 22\n",
      "phone is 9838769566\n",
      "\n",
      " Data type of argument: <class 'dict'>\n",
      "Firstname is john\n",
      "Lastname is sharma\n",
      "Age is 22\n",
      "phone is 9696667976\n"
     ]
    }
   ],
   "source": [
    "#using ** kwargs yo pass the variables keyword arguments to the function\n",
    "# in this function kwargs = data \n",
    "\n",
    "def intro(**data):\n",
    "    print(\"\\n Data type of argument:\",type(data))\n",
    "\n",
    "    for  key,value in data.items():\n",
    "        print(\"{} is {}\". format (key,value))\n",
    "\n",
    "intro (Firstname=\"Sita\",Lastname=\"sharma\",Age=22,phone=9838769566)\n",
    "intro (Firstname=\"john\",Lastname=\"sharma\",Age=22,phone=9696667976)\n"
   ]
  },
  {
   "cell_type": "code",
   "execution_count": 9,
   "metadata": {},
   "outputs": [
    {
     "name": "stdout",
     "output_type": "stream",
     "text": [
      "166\n"
     ]
    }
   ],
   "source": [
    "def total (initial=5,*numbers,**keywords):\n",
    "    count=initial \n",
    "    for number in numbers:\n",
    "        count +=number\n",
    "    for key in keywords:\n",
    "        count +=keywords [key]\n",
    "    return count\n",
    "print(total (10,1,2,3,vegetables=50,fruits=100))\n"
   ]
  },
  {
   "cell_type": "code",
   "execution_count": null,
   "metadata": {},
   "outputs": [],
   "source": []
  }
 ],
 "metadata": {
  "kernelspec": {
   "display_name": "Python 3.9.7 ('base')",
   "language": "python",
   "name": "python3"
  },
  "language_info": {
   "codemirror_mode": {
    "name": "ipython",
    "version": 3
   },
   "file_extension": ".py",
   "mimetype": "text/x-python",
   "name": "python",
   "nbconvert_exporter": "python",
   "pygments_lexer": "ipython3",
   "version": "3.9.7"
  },
  "orig_nbformat": 4,
  "vscode": {
   "interpreter": {
    "hash": "4835c3d539b57c16954e725e2abdde81db650fc829fc28de46a2d8aae2209f58"
   }
  }
 },
 "nbformat": 4,
 "nbformat_minor": 2
}
